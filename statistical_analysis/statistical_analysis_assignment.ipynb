{
  "nbformat": 4,
  "nbformat_minor": 0,
  "metadata": {
    "colab": {
      "provenance": []
    },
    "kernelspec": {
      "name": "python3",
      "display_name": "Python 3"
    },
    "language_info": {
      "name": "python"
    }
  },
  "cells": [
    {
      "cell_type": "code",
      "execution_count": 2,
      "metadata": {
        "id": "a6vReyhnTZt5"
      },
      "outputs": [],
      "source": [
        "#Loading the dataset\n",
        "import pandas as pd\n",
        "\n",
        "athletes = pd.read_csv(\"https://raw.githubusercontent.com/rfordatascience/tidytuesday/master/data/2021/2021-07-27/athlete_events.csv\")"
      ]
    },
    {
      "cell_type": "markdown",
      "source": [
        "__SECTION ONE__"
      ],
      "metadata": {
        "id": "MJyDn4SwXVSR"
      }
    },
    {
      "cell_type": "markdown",
      "source": [
        "1. **In inferential statistics, we attempt to draw a conclusion about a population from sample data. Define the two terms:**  \n",
        "- __Population__ - _Is the entire group of individuals, items, or data that you are interested in studying or drawing conclusions about._\n",
        "\n",
        "- __Sample__ - _Is a subset of the population that is selected for analysis._"
      ],
      "metadata": {
        "id": "nil_ot4-R8g-"
      }
    },
    {
      "cell_type": "markdown",
      "source": [
        "2. **When we estimate an unknown population value using a confidence interval, what does the confidence interval tell us?**  \n",
        "_Confidence interval gives us a range of values in which the expected true value or parameter lies with a certain level of probability. For example, if we say a 95% confidence interval for the average height of adult men might be 95% CI: (168 cm, 174 cm), we mean that we are 95% confident that the true average height of all adult men in the population falls somewhere between 168 cm and 174 cm._"
      ],
      "metadata": {
        "id": "THkllY8h0hhT"
      }
    },
    {
      "cell_type": "markdown",
      "source": [
        "3. **What is a hypothesis?**  \n",
        "_A hypothesis is a statement or a claim about a population that you aim to test using data from a sample. It is used as the starting point for hypothesis testing,to determine whether there is enough evidence in a sample to support or reject the assumption about the population. For example, \"The average height of adult men in Kenya is 170 cm,\" can be a hypothesis to be proven when the study takes place_"
      ],
      "metadata": {
        "id": "S0aOWaJHGP6C"
      }
    },
    {
      "cell_type": "markdown",
      "source": [
        "4. **Describe the two types of hypothesis. Give an example for each.**  \n",
        "\n",
        "- _Null hypothesis (H₀) - This is the default assumption that there is no effect, no difference, or no relationship in the population. It's the statement being tested, and the goal of hypothesis testing is often to reject the null hypothesis in favor of the alternative hypothesis._\n",
        "- _Alternative hypothesis (H₁) - This hypothesis contradicts the null hypothesis and proposes that there is a significant effect, change or difference in the population._"
      ],
      "metadata": {
        "id": "O9Stoez6V7aH"
      }
    },
    {
      "cell_type": "markdown",
      "source": [
        "5. **What is hypothesis testing? Which of the two types of hypothesis do we test in hypothesis testing?**  \n",
        "_Hypothesis testing is a statistical method used to make decisions or inferences about a population based on sample data. In hypothesis testing, we test the null hypothesis (H₀). We assume H₀ is true at the start. The goal is to determine whether the sample data provide strong enough evidence to reject H₀ in favor of the alternative hypothesis (H₁)._"
      ],
      "metadata": {
        "id": "LuqMz4CdxHxi"
      }
    },
    {
      "cell_type": "markdown",
      "source": [
        "6. **Describe the step-by-step process for hypothesis testing.**\n",
        "\n",
        "- _**Formulate Hypotheses** - The first step is to state the null (H₀) and alternative (H₁) hypotheses._\n",
        "- _**Choose the Significance Level (α)** - Secondly, we choose the the probability of rejecting the null hypothesis when it is true.This is the threshold for how much error we're willing to accept. Common choices are 0.05 (5%), 0.01 (1%), and 0.10 (10%)._\n",
        "- _**Conduct the statistical test** - This process involves choosing a statistical test based on the type of data and the hypothesis, gathering the data that will be analyzed in the test, and calculating a test statistic that reflects how much the observed data deviates from the null hypothesis._\n",
        "- _**Determine the p-value** - Here, we calculate the probability of observing test results at least as extreme as the results observed, assuming the null hypothesis is correct. It helps determine the strength of the evidence against the null hypothesis._\n",
        "- _**Make a Decision** - Finally, we compare the p-value to the chosen significance level to make the final decision. If the p-value is less tah or equal to the chosen significant level, we should reject the null hypothesis.  Otherwise, we fail to reject the null hypothesis, meaning there is not enough evidence to support the alternative._"
      ],
      "metadata": {
        "id": "g7bxhJNhxN4G"
      }
    },
    {
      "cell_type": "markdown",
      "source": [
        "\n",
        "7. **What is alpha in hypothesis testing?**  \n",
        "_This is the significance level.  It is the threshold that helps us decide whether to reject the null hypothesis (H₀). Common choices for (α) are 0.05 (5%), 0.01 (1%), and 0.10 (10%)._"
      ],
      "metadata": {
        "id": "L0lTCyNgxTBX"
      }
    },
    {
      "cell_type": "markdown",
      "source": [
        "\n",
        "8. **How does the p-value obtained from hypothesis testing relate to alpha?**  \n",
        "_The p-value and alpha (α) are directly related in hypothesis testing, they work together to help us decide whether to reject or fail to reject the null hypothesis (H₀). If the p-value is less than or equal to our α, the data is unlikely under H₀, so we reject H₀. If the p-value is greater than α, the data is not unusual enough, so we fail to reject H₀._"
      ],
      "metadata": {
        "id": "iKLWHqZoxXx2"
      }
    },
    {
      "cell_type": "markdown",
      "source": [
        "9. **When selecting which statistical test to use in hypothesis testing, what assumptions do we make about the data for a parametric test?**  \n",
        "_When choosing a parametric statistical test, we assume that:_\n",
        "- _The data used are **normally** distributed. This means the data should be roughly bell-shaped, with a symmetrical distribution around the mean. If the data are not normally distributed, non-parametric tests must be used instead. Non-parametric tests do not assume that the data are normally distributed._\n",
        "- _The data points within the sample should be **independent** of each other. This means that the value of one observation should not influence the value of any other observation._\n",
        "- _This variance within each group being compared should be roughly **equal**. If one group has much more variation than others, it will limit the test’s effectiveness._"
      ],
      "metadata": {
        "id": "sOGhq_BGxepd"
      }
    },
    {
      "cell_type": "markdown",
      "source": [
        "10. **Name one test used to determine whether a datset is a normal distribution.**  \n",
        "_The Kolmogorov-Smirnov test_"
      ],
      "metadata": {
        "id": "2dKgY-8Qxi2P"
      }
    },
    {
      "cell_type": "markdown",
      "source": [
        "__SECTION TWO__"
      ],
      "metadata": {
        "id": "nCSdOOrkXlyV"
      }
    },
    {
      "cell_type": "markdown",
      "source": [
        "Research question:  \n",
        "\n",
        "Are male and female olympic athletes the same height on average?"
      ],
      "metadata": {
        "id": "jt-xmNucs7eT"
      }
    },
    {
      "cell_type": "markdown",
      "source": [
        "a. **State the hypotheses. Define the null and alternative hypotheses.**  \n",
        "- _Null hypothesis(H₀) - The average height of male and female athletes is the same._\n",
        "- _Alternative hypothesis(H₁) - The average height of male and female athletes is different._"
      ],
      "metadata": {
        "id": "MQulzQBMV7Vr"
      }
    },
    {
      "cell_type": "markdown",
      "source": [
        "b. **We have already chosen the significance level of (α = 0.05). So the next step is to choose the appropriate statistical test: consider whether the data is numerical or categorical, whether the groups are independent, and the number of groups. Also test for normality of the data as well as equality of variance.**  \n",
        "- _Height column data is numerical. So we will be comparing this column with the Age column data which is either M or F. The ages are **independent** and in binary form. Lets test to see if all assumptions are met, including **normality** and **equality** of variance of groups._"
      ],
      "metadata": {
        "id": "Trt-B-3AXPDv"
      }
    },
    {
      "cell_type": "code",
      "source": [
        "# Using the Shapiro-Wilk test to test the normality\n",
        "from scipy.stats import anderson\n",
        "import matplotlib.pyplot as plt\n",
        "\n",
        "# Drop missing height values\n",
        "athletes = athletes.dropna(subset=[\"Height\"])\n",
        "\n",
        "# Separating height data by sex\n",
        "male_heights = athletes[athletes['Sex'] == 'M']['Height'].dropna()\n",
        "female_heights = athletes[athletes['Sex'] == 'F']['Height'].dropna()\n",
        "\n",
        "# Anderson-Darling Test for Normality\n",
        "anderson_m = anderson(male_heights)\n",
        "anderson_f = anderson(female_heights)\n",
        "\n",
        "print(\"Anderson-Darling Test (Males):\")\n",
        "print(\"Statistic:\", anderson_m.statistic)\n",
        "print(\"Critical Values:\", anderson_m.critical_values)\n",
        "print(\"Significance Levels:\", anderson_m.significance_level)\n",
        "\n",
        "print(\"Anderson-Darling Test (Females):\")\n",
        "print(\"Statistic:\", anderson_f.statistic)\n",
        "print(\"Critical Values:\", anderson_f.critical_values)\n",
        "print(\"Significance Levels:\", anderson_f.significance_level)\n"
      ],
      "metadata": {
        "colab": {
          "base_uri": "https://localhost:8080/"
        },
        "id": "U2N1MGfIdLBL",
        "outputId": "4d63f9bc-d5b0-4215-a8d6-eec1659af4db"
      },
      "execution_count": 3,
      "outputs": [
        {
          "output_type": "stream",
          "name": "stdout",
          "text": [
            "Anderson-Darling Test (Males):\n",
            "Statistic: 123.37905829734518\n",
            "Critical Values: [0.576 0.656 0.787 0.918 1.092]\n",
            "Significance Levels: [15.  10.   5.   2.5  1. ]\n",
            "Anderson-Darling Test (Females):\n",
            "Statistic: 89.8122314439388\n",
            "Critical Values: [0.576 0.656 0.787 0.918 1.092]\n",
            "Significance Levels: [15.  10.   5.   2.5  1. ]\n"
          ]
        }
      ]
    },
    {
      "cell_type": "code",
      "source": [
        "# Using Levene’s Test to test the equality of Variances\n",
        "from scipy.stats import levene\n",
        "\n",
        "levene_test = levene(male_heights, female_heights)\n",
        "print(\"Levene's test:\", levene_test)\n"
      ],
      "metadata": {
        "id": "HFmGHAYsq3K6",
        "outputId": "f68f78bd-30bc-4723-c4ce-28bfd7db98bf",
        "colab": {
          "base_uri": "https://localhost:8080/"
        }
      },
      "execution_count": 4,
      "outputs": [
        {
          "output_type": "stream",
          "name": "stdout",
          "text": [
            "Levene's test: LeveneResult(statistic=np.float64(494.37845930272937), pvalue=np.float64(2.1243629849629428e-109))\n"
          ]
        }
      ]
    },
    {
      "cell_type": "markdown",
      "source": [
        "c. **State the justifications for your choice for a statistical test.**  \n",
        "- _The height variable is **numerical** (continuous)._\n",
        "- _We are comparing two **independent** groups, male and female athletes._\n",
        "- _In male heights, the statistic value (123.38) is greater than the critical value (0.787). Therefore, the male group is **not normally** distributed._\n",
        "- _In female heights, the statistic value (89.81) is also greater than the critical value (0.787). Therefore, the female group is also **not normally** distributed._\n",
        "- _The p-value in Lavene's test is less than 0.05. Therefore, the two groups have significantly different variances._\n",
        "- _Since the normality or equal variance assumptions are not met, and the groups are independent, we will use a non-parametric test for unpaired data, in this case Mann–Whitney U Test._"
      ],
      "metadata": {
        "id": "OEehqA5rYBk8"
      }
    },
    {
      "cell_type": "markdown",
      "source": [
        "d. **Prepare the data. Handle missing values and filter for male and female athletes with valid height entries.**"
      ],
      "metadata": {
        "id": "_6OxGlSja2ID"
      }
    },
    {
      "cell_type": "code",
      "source": [
        "# Ensuring heights are clean\n",
        "male_heights = male_heights.dropna()\n",
        "female_heights = female_heights.dropna()"
      ],
      "metadata": {
        "id": "YOmznFffa63n"
      },
      "execution_count": 5,
      "outputs": []
    },
    {
      "cell_type": "markdown",
      "source": [
        "e & f. **Conduct the statistical test. & Compute the test statistic and p-value.**"
      ],
      "metadata": {
        "id": "KErIWja9bCX5"
      }
    },
    {
      "cell_type": "code",
      "source": [
        "# Importing the library\n",
        "from scipy.stats import mannwhitneyu\n",
        "\n",
        "u_stat, p_value = mannwhitneyu(male_heights, female_heights, alternative='two-sided')\n",
        "\n",
        "print(\"Mann–Whitney U Test statistic:\", u_stat)\n",
        "print(\"p-value:\", p_value)\n"
      ],
      "metadata": {
        "colab": {
          "base_uri": "https://localhost:8080/"
        },
        "id": "qYcS3tl2WS3M",
        "outputId": "632e5ff4-b2dc-40e6-894c-afde4132f8e8"
      },
      "execution_count": 6,
      "outputs": [
        {
          "output_type": "stream",
          "name": "stdout",
          "text": [
            "Mann–Whitney U Test statistic: 7814318265.5\n",
            "p-value: 0.0\n"
          ]
        }
      ]
    },
    {
      "cell_type": "markdown",
      "source": [
        "g. **Make a decision: interpret the p-value and state whether you reject or fail to reject the null hypothesis.**"
      ],
      "metadata": {
        "id": "L3zRa1zHbhfP"
      }
    },
    {
      "cell_type": "markdown",
      "source": [
        "_From the Mann–Whitney U Test above, the p value is less than 0.05 (in fact, it's extremely close to 0). Therefore, we have very strong evidence against the null hypothesis (H₀). Consequently, we reject the null hypothesis, and state that, there is a statistically significant difference in the average heights of male and female Olympic athletes._"
      ],
      "metadata": {
        "id": "ALPKhgyDWiVW"
      }
    }
  ]
}