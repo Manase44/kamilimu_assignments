{
  "nbformat": 4,
  "nbformat_minor": 0,
  "metadata": {
    "colab": {
      "provenance": []
    },
    "kernelspec": {
      "name": "python3",
      "display_name": "Python 3"
    },
    "language_info": {
      "name": "python"
    }
  },
  "cells": [
    {
      "cell_type": "markdown",
      "source": [
        "##Section 1: Foundational Concepts\n",
        "\n",
        "---\n",
        "\n"
      ],
      "metadata": {
        "id": "ayLW4VU4NhoD"
      }
    },
    {
      "cell_type": "markdown",
      "source": [
        "#### 1. __What is the primary purpose of data manipulation in the data science workflow?__\n"
      ],
      "metadata": {
        "id": "HGk1nnLsN5RN"
      }
    },
    {
      "cell_type": "markdown",
      "source": [
        "  _Data manipulation aims to clean and structure messy data sets, to make them readable, relevant, and usable for analysis and decision-making._"
      ],
      "metadata": {
        "id": "TbZw4cdLPNDY"
      }
    },
    {
      "cell_type": "markdown",
      "source": [
        "#### 2. **Name three Python libraries that are used for data manipulation, besides Pandas.**"
      ],
      "metadata": {
        "id": "IZO6-UPyRNzT"
      }
    },
    {
      "cell_type": "markdown",
      "source": [
        "-  _NumPy_\n",
        "- _Polars_\n",
        "- _PySpark_"
      ],
      "metadata": {
        "id": "WMUPbJrsReCJ"
      }
    },
    {
      "cell_type": "markdown",
      "source": [
        "#### 3. **What are the key limitations of standard Python lists when performing numerical computations with large datasets, which NumPy addresses?**"
      ],
      "metadata": {
        "id": "Fqr3MdG-SUHl"
      }
    },
    {
      "cell_type": "markdown",
      "source": [
        "#### 4. **Explain the core difference between how Python lists and NumPy arrays handle the addition of two lists/arrays.**"
      ],
      "metadata": {
        "id": "1GTV2dXsNtU9"
      }
    },
    {
      "cell_type": "markdown",
      "source": [
        "*The core difference between Python lists and NumPy arrays when handling addition lies in their fundamental behavior. When you use the `+` operator with Python lists, it performs concatenation, combining two lists into one longer list.  \n",
        "For example, adding `[1, 2, 3]` and `[4, 5, 6]` yields `[1, 2, 3, 4, 5, 6]`.*"
      ],
      "metadata": {
        "id": "ebVyyViPQ5Uq"
      }
    },
    {
      "cell_type": "code",
      "source": [
        "list_one = [1, 2, 3]\n",
        "list_two = [4, 5, 6]\n",
        "print(list_one + list_two)"
      ],
      "metadata": {
        "colab": {
          "base_uri": "https://localhost:8080/"
        },
        "id": "hjsOUSsTRv1C",
        "outputId": "7cfd3485-dca1-41ec-9850-d7cf072d3ce7"
      },
      "execution_count": 1,
      "outputs": [
        {
          "output_type": "stream",
          "name": "stdout",
          "text": [
            "[1, 2, 3, 4, 5, 6]\n"
          ]
        }
      ]
    },
    {
      "cell_type": "markdown",
      "source": [
        " *To perform element-wise addition with lists, you must manually iterate through them using loops or list comprehensions.*\n",
        "\n"
      ],
      "metadata": {
        "id": "dGpJDT_sSBbz"
      }
    },
    {
      "cell_type": "code",
      "source": [
        "result = []\n",
        "\n",
        "for i in range(len(list_one)):\n",
        "    result.append(list_one[i] + list_two[i])\n",
        "\n",
        "print(result)"
      ],
      "metadata": {
        "colab": {
          "base_uri": "https://localhost:8080/"
        },
        "id": "2SDS4h4iSTqx",
        "outputId": "27db906c-2471-4275-f884-125d0ffbade5"
      },
      "execution_count": 4,
      "outputs": [
        {
          "output_type": "stream",
          "name": "stdout",
          "text": [
            "[5, 7, 9]\n"
          ]
        }
      ]
    },
    {
      "cell_type": "markdown",
      "source": [
        "*In contrast, NumPy arrays treat the `+` operator as a mathematical operation, performing element-wise addition by default. Adding two NumPy arrays like `[1, 2, 3]` and `[4, 5, 6]` produces `[5, 7, 9]`, where each corresponding element is summed. This behavior stems from NumPy's design for numerical computing, where vectorized operations eliminate the need for explicit loops and significantly improve performance.*"
      ],
      "metadata": {
        "id": "e-S4fwZVTbpX"
      }
    },
    {
      "cell_type": "code",
      "source": [
        "import numpy as np\n",
        "ndarray_one = np.array(list_one)\n",
        "ndarray_two = np.array(list_two)\n",
        "\n",
        "print(ndarray_one + ndarray_two)"
      ],
      "metadata": {
        "colab": {
          "base_uri": "https://localhost:8080/"
        },
        "id": "8zjvAlEUTuzI",
        "outputId": "5c99aaa3-9d5b-49dc-de24-c4a149cd74af"
      },
      "execution_count": 6,
      "outputs": [
        {
          "output_type": "stream",
          "name": "stdout",
          "text": [
            "[5 7 9]\n"
          ]
        }
      ]
    },
    {
      "cell_type": "markdown",
      "source": [
        "#### 5. **What is an ndarray**"
      ],
      "metadata": {
        "id": "JXYjcXDYUUNR"
      }
    },
    {
      "cell_type": "markdown",
      "source": [
        "_**ndarray**, short for N-dimensional array, is the fundamental data structure in NumPy that represents a fixed-size, homogeneous, multi-dimensional array of elements._\n",
        "\n",
        "_It is NumPy’s powerful, efficient, and flexible container for numerical data, enabling fast computations and advanced math operations._\n",
        "\n",
        "\n",
        "_To create a ndarray  we use the `array()` method from numpy as show:_\n"
      ],
      "metadata": {
        "id": "a6CpYXfLUbA6"
      }
    },
    {
      "cell_type": "code",
      "source": [
        "example_ndarray = np.array([1,2,3,4,5])\n",
        "\n",
        "print(example_ndarray)\n",
        "\n",
        "#Confirm the type of the ndarray\n",
        "print(type(example_ndarray))"
      ],
      "metadata": {
        "colab": {
          "base_uri": "https://localhost:8080/"
        },
        "id": "7TUhmIHtWm2G",
        "outputId": "0e92ef31-5d64-4c0e-cddb-79764aedd7cf"
      },
      "execution_count": 8,
      "outputs": [
        {
          "output_type": "stream",
          "name": "stdout",
          "text": [
            "[1 2 3 4 5]\n",
            "<class 'numpy.ndarray'>\n"
          ]
        }
      ]
    },
    {
      "cell_type": "markdown",
      "source": [
        "#### 6. **List the advantages of using NumPy arrays over Python lists for numerical computations.**"
      ],
      "metadata": {
        "id": "5pn7ylzRW7f_"
      }
    },
    {
      "cell_type": "markdown",
      "source": [
        "##Section 2: Foundational Data Exploration & Manipulation\n",
        "\n",
        "---\n",
        "\n"
      ],
      "metadata": {
        "id": "X800opGvNoUX"
      }
    },
    {
      "cell_type": "markdown",
      "source": [
        "##Section 3: Optional; Extra Credit\n",
        "\n",
        "---\n",
        "\n"
      ],
      "metadata": {
        "id": "7_UpkKRSNu2Z"
      }
    }
  ]
}