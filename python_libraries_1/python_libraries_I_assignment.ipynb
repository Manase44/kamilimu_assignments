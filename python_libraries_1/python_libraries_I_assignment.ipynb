{
  "cells": [
    {
      "cell_type": "markdown",
      "metadata": {
        "id": "ayLW4VU4NhoD"
      },
      "source": [
        "## Section 1: Foundational Concepts\n",
        "\n",
        "---\n",
        "\n"
      ]
    },
    {
      "cell_type": "markdown",
      "metadata": {
        "id": "HGk1nnLsN5RN"
      },
      "source": [
        "#### 1. __What is the primary purpose of data manipulation in the data science workflow?__\n"
      ]
    },
    {
      "cell_type": "markdown",
      "metadata": {
        "id": "TbZw4cdLPNDY"
      },
      "source": [
        "  _Data manipulation aims to clean and structure messy data sets, to make them readable, relevant, and usable for analysis and decision-making._"
      ]
    },
    {
      "cell_type": "markdown",
      "metadata": {
        "id": "IZO6-UPyRNzT"
      },
      "source": [
        "#### 2. **Name three Python libraries that are used for data manipulation, besides Pandas.**"
      ]
    },
    {
      "cell_type": "markdown",
      "metadata": {
        "id": "WMUPbJrsReCJ"
      },
      "source": [
        "-  _NumPy_\n",
        "- _Polars_\n",
        "- _PySpark_"
      ]
    },
    {
      "cell_type": "markdown",
      "metadata": {
        "id": "Fqr3MdG-SUHl"
      },
      "source": [
        "#### 3. **What are the key limitations of standard Python lists when performing numerical computations with large datasets, which NumPy addresses?**"
      ]
    },
    {
      "cell_type": "markdown",
      "metadata": {
        "id": "zLiMHLjllnhf"
      },
      "source": [
        "- _They are slower in terms of performance - Python list require explicit looping to perform mathematical operations like addition and multiplication on elements, which is slow due to Python's interpreted nature. Where as NumPy uses optimized compact based implementations under the hood, allowing vectorized operations, which are significantly faster._\n",
        "- _Consumes more memory - Python lists store pointers to objects, which leads to higher memory usage and slower access times.Where as NumPy arrays store elements in a contiguous block of memory using fixed-size data types, which is more memory-efficient and supports faster access._\n",
        "- _Poor functionality to mathematical operations - Lists don’t support element-wise mathematical operations natively, for example, list1 + list2 concatenates rather than adds elements, whereas Numpy arrays does._"
      ]
    },
    {
      "cell_type": "markdown",
      "metadata": {
        "id": "1GTV2dXsNtU9"
      },
      "source": [
        "#### 4. **Explain the core difference between how Python lists and NumPy arrays handle the addition of two lists/arrays.**"
      ]
    },
    {
      "cell_type": "markdown",
      "metadata": {
        "id": "ebVyyViPQ5Uq"
      },
      "source": [
        "*The core difference between Python lists and NumPy arrays when handling addition lies in their fundamental behavior. When you use the `+` operator with Python lists, it performs concatenation, combining two lists into one longer list.  \n",
        "For example, adding `[1, 2, 3]` and `[4, 5, 6]` yields `[1, 2, 3, 4, 5, 6]`.*"
      ]
    },
    {
      "cell_type": "code",
      "execution_count": null,
      "metadata": {
        "colab": {
          "base_uri": "https://localhost:8080/"
        },
        "id": "hjsOUSsTRv1C",
        "outputId": "7cfd3485-dca1-41ec-9850-d7cf072d3ce7"
      },
      "outputs": [
        {
          "name": "stdout",
          "output_type": "stream",
          "text": [
            "[1, 2, 3, 4, 5, 6]\n"
          ]
        }
      ],
      "source": [
        "list_one = [1, 2, 3]\n",
        "list_two = [4, 5, 6]\n",
        "print(list_one + list_two)"
      ]
    },
    {
      "cell_type": "markdown",
      "metadata": {
        "id": "dGpJDT_sSBbz"
      },
      "source": [
        " *To perform element-wise addition with lists, you must manually iterate through them using loops or list comprehensions.*\n",
        "\n"
      ]
    },
    {
      "cell_type": "code",
      "execution_count": null,
      "metadata": {
        "colab": {
          "base_uri": "https://localhost:8080/"
        },
        "id": "2SDS4h4iSTqx",
        "outputId": "27db906c-2471-4275-f884-125d0ffbade5"
      },
      "outputs": [
        {
          "name": "stdout",
          "output_type": "stream",
          "text": [
            "[5, 7, 9]\n"
          ]
        }
      ],
      "source": [
        "result = []\n",
        "\n",
        "for i in range(len(list_one)):\n",
        "    result.append(list_one[i] + list_two[i])\n",
        "\n",
        "print(result)"
      ]
    },
    {
      "cell_type": "markdown",
      "metadata": {
        "id": "e-S4fwZVTbpX"
      },
      "source": [
        "*In contrast, NumPy arrays treat the `+` operator as a mathematical operation, performing element-wise addition by default. Adding two NumPy arrays like `[1, 2, 3]` and `[4, 5, 6]` produces `[5, 7, 9]`, where each corresponding element is summed. This behavior stems from NumPy's design for numerical computing, where vectorized operations eliminate the need for explicit loops and significantly improve performance.*"
      ]
    },
    {
      "cell_type": "code",
      "execution_count": null,
      "metadata": {
        "colab": {
          "base_uri": "https://localhost:8080/"
        },
        "id": "8zjvAlEUTuzI",
        "outputId": "5c99aaa3-9d5b-49dc-de24-c4a149cd74af"
      },
      "outputs": [
        {
          "name": "stdout",
          "output_type": "stream",
          "text": [
            "[5 7 9]\n"
          ]
        }
      ],
      "source": [
        "import numpy as np\n",
        "ndarray_one = np.array(list_one)\n",
        "ndarray_two = np.array(list_two)\n",
        "\n",
        "print(ndarray_one + ndarray_two)"
      ]
    },
    {
      "cell_type": "markdown",
      "metadata": {
        "id": "JXYjcXDYUUNR"
      },
      "source": [
        "#### 5. **What is an ndarray**"
      ]
    },
    {
      "cell_type": "markdown",
      "metadata": {
        "id": "a6CpYXfLUbA6"
      },
      "source": [
        "_**ndarray**, short for N-dimensional array, is the fundamental data structure in NumPy that represents a fixed-size, homogeneous, multi-dimensional array of elements._\n",
        "\n",
        "_It is NumPy’s powerful, efficient, and flexible container for numerical data, enabling fast computations and advanced math operations._\n",
        "\n",
        "\n",
        "_To create a ndarray  we use the `array()` method from numpy as show:_\n"
      ]
    },
    {
      "cell_type": "code",
      "execution_count": null,
      "metadata": {
        "colab": {
          "base_uri": "https://localhost:8080/"
        },
        "id": "7TUhmIHtWm2G",
        "outputId": "0e92ef31-5d64-4c0e-cddb-79764aedd7cf"
      },
      "outputs": [
        {
          "name": "stdout",
          "output_type": "stream",
          "text": [
            "[1 2 3 4 5]\n",
            "<class 'numpy.ndarray'>\n"
          ]
        }
      ],
      "source": [
        "example_ndarray = np.array([1,2,3,4,5])\n",
        "\n",
        "print(example_ndarray)\n",
        "\n",
        "#Confirm the type of the ndarray\n",
        "print(type(example_ndarray))"
      ]
    },
    {
      "cell_type": "markdown",
      "metadata": {
        "id": "5pn7ylzRW7f_"
      },
      "source": [
        "#### 6. **List the advantages of using NumPy arrays over Python lists for numerical computations.**"
      ]
    },
    {
      "cell_type": "markdown",
      "metadata": {
        "id": "zPeKE-EzpJki"
      },
      "source": [
        "- _Consumes less memory - they use fixed-size, homogeneous data types stored in a contiguous block of memory, reducing overhead and memory usage._\n",
        "- _Fast as compared to the python List - Its operations are implemented in C and vectorized, making them much faster than looping through Python lists for arithmetic or mathematical computations._\n",
        "- _Convenient to use - It allows for element-wise operations without writing explicit loops, making the code cleaner and easier to read._"
      ]
    },
    {
      "cell_type": "markdown",
      "metadata": {
        "id": "yL4HC7PlIMN_"
      },
      "source": [
        "#### 7. **What are the two primary data structures that Pandas introduces for working with tabular data? Briefly describe each.**"
      ]
    },
    {
      "cell_type": "markdown",
      "metadata": {
        "id": "WKPJzWrlIRVp"
      },
      "source": [
        "- _**Series** - Is a one-dimensional labeled array capable of holding any data type_\n",
        "- _**DataFrame** - Is a two-dimensional labeled data structure, consisting of rows and columns, where each column is a Series.._"
      ]
    },
    {
      "cell_type": "markdown",
      "metadata": {
        "id": "UjGYvWPLIiJX"
      },
      "source": [
        "#### 8. **How does Pandas simplify working with tabular data compared to what NumPy primarily offers?**"
      ]
    },
    {
      "cell_type": "markdown",
      "metadata": {
        "id": "ir4hdhijrkqR"
      },
      "source": [
        "It simplifies by:\n",
        "- _Providing labeled indexing, allowing rows and columns to be accessed using names instead of only integer positions_\n",
        "- _Supporting heterogeneous data types, enabling each column in a DataFrame to hold different types , unlike NumPy arrays which require uniform types._\n",
        "- _Displaying data in a clear, tabular format, which improves readability and helps in quickly understanding the structure and content._\n",
        "- _Handling missing data gracefully, using NaN placeholders and offering built-in functions like `isnull()`, `fillna()`, and `dropna()` for data cleaning._"
      ]
    },
    {
      "cell_type": "markdown",
      "metadata": {
        "id": "Mz1MLuuhInwP"
      },
      "source": [
        "#### 9. **Name two ways to access a specific column in a Pandas DataFrame. Provide a simple example for each.**"
      ]
    },
    {
      "cell_type": "markdown",
      "metadata": {
        "id": "rfOCIJz1Is6S"
      },
      "source": [
        "- _**Bracket notation** - It uses square brackets to access the column name as a key e.g `df['Age']`._\n",
        "- _**Dot notation** - It accesses the column as an attribute using a dot e.g `df.Age`_"
      ]
    },
    {
      "cell_type": "markdown",
      "metadata": {
        "id": "vTcn8kVWI5VH"
      },
      "source": [
        "#### 10. **What does `df.isnull().sum()` tell you about a DataFrame in Pandas, and why is this function important in data cleaning?**"
      ]
    },
    {
      "cell_type": "markdown",
      "metadata": {
        "id": "TVm5o9uKJSmJ"
      },
      "source": [
        "_`df.isnull().sum()` returns the total number of null records in every column of the dataframe._"
      ]
    },
    {
      "cell_type": "markdown",
      "metadata": {
        "id": "X800opGvNoUX"
      },
      "source": [
        "##Section 2: Foundational Data Exploration & Manipulation\n",
        "\n",
        "---\n",
        "\n"
      ]
    },
    {
      "cell_type": "code",
      "execution_count": null,
      "metadata": {
        "id": "Pm3BpE2QchnP"
      },
      "outputs": [],
      "source": [
        "import pandas as pd\n",
        "\n",
        "#Loading the dataset\n",
        "df = pd.read_csv(\"https://raw.githubusercontent.com/justmarkham/DAT8/master/data/chipotle.tsv\", sep='\\t')"
      ]
    },
    {
      "cell_type": "markdown",
      "metadata": {
        "id": "9LoLYmx2cudH"
      },
      "source": [
        "#### 1. **Display the last 7 rows of the DataFrame df to get an initial look at the data.**"
      ]
    },
    {
      "cell_type": "code",
      "execution_count": null,
      "metadata": {
        "colab": {
          "base_uri": "https://localhost:8080/",
          "height": 269
        },
        "id": "4eHsxK4IczS7",
        "outputId": "81cf4e55-efb3-4251-8a99-0e627c0a441d"
      },
      "outputs": [
        {
          "data": {
            "application/vnd.google.colaboratory.intrinsic+json": {
              "summary": "{\n  \"name\": \"df\",\n  \"rows\": 7,\n  \"fields\": [\n    {\n      \"column\": \"order_id\",\n      \"properties\": {\n        \"dtype\": \"number\",\n        \"std\": 0,\n        \"min\": 1832,\n        \"max\": 1834,\n        \"num_unique_values\": 3,\n        \"samples\": [\n          1832,\n          1833,\n          1834\n        ],\n        \"semantic_type\": \"\",\n        \"description\": \"\"\n      }\n    },\n    {\n      \"column\": \"quantity\",\n      \"properties\": {\n        \"dtype\": \"number\",\n        \"std\": 0,\n        \"min\": 1,\n        \"max\": 1,\n        \"num_unique_values\": 1,\n        \"samples\": [\n          1\n        ],\n        \"semantic_type\": \"\",\n        \"description\": \"\"\n      }\n    },\n    {\n      \"column\": \"item_name\",\n      \"properties\": {\n        \"dtype\": \"string\",\n        \"num_unique_values\": 4,\n        \"samples\": [\n          \"Chips and Guacamole\"\n        ],\n        \"semantic_type\": \"\",\n        \"description\": \"\"\n      }\n    },\n    {\n      \"column\": \"choice_description\",\n      \"properties\": {\n        \"dtype\": \"string\",\n        \"num_unique_values\": 6,\n        \"samples\": [\n          \"[Fresh Tomato Salsa, [Rice, Cheese, Sour Cream]]\"\n        ],\n        \"semantic_type\": \"\",\n        \"description\": \"\"\n      }\n    },\n    {\n      \"column\": \"item_price\",\n      \"properties\": {\n        \"dtype\": \"string\",\n        \"num_unique_values\": 4,\n        \"samples\": [\n          \"$4.45 \"\n        ],\n        \"semantic_type\": \"\",\n        \"description\": \"\"\n      }\n    }\n  ]\n}",
              "type": "dataframe"
            },
            "text/html": [
              "\n",
              "  <div id=\"df-51dc5153-0d3b-46a1-9ab6-f1699c81cde2\" class=\"colab-df-container\">\n",
              "    <div>\n",
              "<style scoped>\n",
              "    .dataframe tbody tr th:only-of-type {\n",
              "        vertical-align: middle;\n",
              "    }\n",
              "\n",
              "    .dataframe tbody tr th {\n",
              "        vertical-align: top;\n",
              "    }\n",
              "\n",
              "    .dataframe thead th {\n",
              "        text-align: right;\n",
              "    }\n",
              "</style>\n",
              "<table border=\"1\" class=\"dataframe\">\n",
              "  <thead>\n",
              "    <tr style=\"text-align: right;\">\n",
              "      <th></th>\n",
              "      <th>order_id</th>\n",
              "      <th>quantity</th>\n",
              "      <th>item_name</th>\n",
              "      <th>choice_description</th>\n",
              "      <th>item_price</th>\n",
              "    </tr>\n",
              "  </thead>\n",
              "  <tbody>\n",
              "    <tr>\n",
              "      <th>4615</th>\n",
              "      <td>1832</td>\n",
              "      <td>1</td>\n",
              "      <td>Chicken Soft Tacos</td>\n",
              "      <td>[Fresh Tomato Salsa, [Rice, Cheese, Sour Cream]]</td>\n",
              "      <td>$8.75</td>\n",
              "    </tr>\n",
              "    <tr>\n",
              "      <th>4616</th>\n",
              "      <td>1832</td>\n",
              "      <td>1</td>\n",
              "      <td>Chips and Guacamole</td>\n",
              "      <td>NaN</td>\n",
              "      <td>$4.45</td>\n",
              "    </tr>\n",
              "    <tr>\n",
              "      <th>4617</th>\n",
              "      <td>1833</td>\n",
              "      <td>1</td>\n",
              "      <td>Steak Burrito</td>\n",
              "      <td>[Fresh Tomato Salsa, [Rice, Black Beans, Sour ...</td>\n",
              "      <td>$11.75</td>\n",
              "    </tr>\n",
              "    <tr>\n",
              "      <th>4618</th>\n",
              "      <td>1833</td>\n",
              "      <td>1</td>\n",
              "      <td>Steak Burrito</td>\n",
              "      <td>[Fresh Tomato Salsa, [Rice, Sour Cream, Cheese...</td>\n",
              "      <td>$11.75</td>\n",
              "    </tr>\n",
              "    <tr>\n",
              "      <th>4619</th>\n",
              "      <td>1834</td>\n",
              "      <td>1</td>\n",
              "      <td>Chicken Salad Bowl</td>\n",
              "      <td>[Fresh Tomato Salsa, [Fajita Vegetables, Pinto...</td>\n",
              "      <td>$11.25</td>\n",
              "    </tr>\n",
              "    <tr>\n",
              "      <th>4620</th>\n",
              "      <td>1834</td>\n",
              "      <td>1</td>\n",
              "      <td>Chicken Salad Bowl</td>\n",
              "      <td>[Fresh Tomato Salsa, [Fajita Vegetables, Lettu...</td>\n",
              "      <td>$8.75</td>\n",
              "    </tr>\n",
              "    <tr>\n",
              "      <th>4621</th>\n",
              "      <td>1834</td>\n",
              "      <td>1</td>\n",
              "      <td>Chicken Salad Bowl</td>\n",
              "      <td>[Fresh Tomato Salsa, [Fajita Vegetables, Pinto...</td>\n",
              "      <td>$8.75</td>\n",
              "    </tr>\n",
              "  </tbody>\n",
              "</table>\n",
              "</div>\n",
              "    <div class=\"colab-df-buttons\">\n",
              "\n",
              "  <div class=\"colab-df-container\">\n",
              "    <button class=\"colab-df-convert\" onclick=\"convertToInteractive('df-51dc5153-0d3b-46a1-9ab6-f1699c81cde2')\"\n",
              "            title=\"Convert this dataframe to an interactive table.\"\n",
              "            style=\"display:none;\">\n",
              "\n",
              "  <svg xmlns=\"http://www.w3.org/2000/svg\" height=\"24px\" viewBox=\"0 -960 960 960\">\n",
              "    <path d=\"M120-120v-720h720v720H120Zm60-500h600v-160H180v160Zm220 220h160v-160H400v160Zm0 220h160v-160H400v160ZM180-400h160v-160H180v160Zm440 0h160v-160H620v160ZM180-180h160v-160H180v160Zm440 0h160v-160H620v160Z\"/>\n",
              "  </svg>\n",
              "    </button>\n",
              "\n",
              "  <style>\n",
              "    .colab-df-container {\n",
              "      display:flex;\n",
              "      gap: 12px;\n",
              "    }\n",
              "\n",
              "    .colab-df-convert {\n",
              "      background-color: #E8F0FE;\n",
              "      border: none;\n",
              "      border-radius: 50%;\n",
              "      cursor: pointer;\n",
              "      display: none;\n",
              "      fill: #1967D2;\n",
              "      height: 32px;\n",
              "      padding: 0 0 0 0;\n",
              "      width: 32px;\n",
              "    }\n",
              "\n",
              "    .colab-df-convert:hover {\n",
              "      background-color: #E2EBFA;\n",
              "      box-shadow: 0px 1px 2px rgba(60, 64, 67, 0.3), 0px 1px 3px 1px rgba(60, 64, 67, 0.15);\n",
              "      fill: #174EA6;\n",
              "    }\n",
              "\n",
              "    .colab-df-buttons div {\n",
              "      margin-bottom: 4px;\n",
              "    }\n",
              "\n",
              "    [theme=dark] .colab-df-convert {\n",
              "      background-color: #3B4455;\n",
              "      fill: #D2E3FC;\n",
              "    }\n",
              "\n",
              "    [theme=dark] .colab-df-convert:hover {\n",
              "      background-color: #434B5C;\n",
              "      box-shadow: 0px 1px 3px 1px rgba(0, 0, 0, 0.15);\n",
              "      filter: drop-shadow(0px 1px 2px rgba(0, 0, 0, 0.3));\n",
              "      fill: #FFFFFF;\n",
              "    }\n",
              "  </style>\n",
              "\n",
              "    <script>\n",
              "      const buttonEl =\n",
              "        document.querySelector('#df-51dc5153-0d3b-46a1-9ab6-f1699c81cde2 button.colab-df-convert');\n",
              "      buttonEl.style.display =\n",
              "        google.colab.kernel.accessAllowed ? 'block' : 'none';\n",
              "\n",
              "      async function convertToInteractive(key) {\n",
              "        const element = document.querySelector('#df-51dc5153-0d3b-46a1-9ab6-f1699c81cde2');\n",
              "        const dataTable =\n",
              "          await google.colab.kernel.invokeFunction('convertToInteractive',\n",
              "                                                    [key], {});\n",
              "        if (!dataTable) return;\n",
              "\n",
              "        const docLinkHtml = 'Like what you see? Visit the ' +\n",
              "          '<a target=\"_blank\" href=https://colab.research.google.com/notebooks/data_table.ipynb>data table notebook</a>'\n",
              "          + ' to learn more about interactive tables.';\n",
              "        element.innerHTML = '';\n",
              "        dataTable['output_type'] = 'display_data';\n",
              "        await google.colab.output.renderOutput(dataTable, element);\n",
              "        const docLink = document.createElement('div');\n",
              "        docLink.innerHTML = docLinkHtml;\n",
              "        element.appendChild(docLink);\n",
              "      }\n",
              "    </script>\n",
              "  </div>\n",
              "\n",
              "\n",
              "    <div id=\"df-c63ee964-c030-481d-9769-79e872c1aafe\">\n",
              "      <button class=\"colab-df-quickchart\" onclick=\"quickchart('df-c63ee964-c030-481d-9769-79e872c1aafe')\"\n",
              "                title=\"Suggest charts\"\n",
              "                style=\"display:none;\">\n",
              "\n",
              "<svg xmlns=\"http://www.w3.org/2000/svg\" height=\"24px\"viewBox=\"0 0 24 24\"\n",
              "     width=\"24px\">\n",
              "    <g>\n",
              "        <path d=\"M19 3H5c-1.1 0-2 .9-2 2v14c0 1.1.9 2 2 2h14c1.1 0 2-.9 2-2V5c0-1.1-.9-2-2-2zM9 17H7v-7h2v7zm4 0h-2V7h2v10zm4 0h-2v-4h2v4z\"/>\n",
              "    </g>\n",
              "</svg>\n",
              "      </button>\n",
              "\n",
              "<style>\n",
              "  .colab-df-quickchart {\n",
              "      --bg-color: #E8F0FE;\n",
              "      --fill-color: #1967D2;\n",
              "      --hover-bg-color: #E2EBFA;\n",
              "      --hover-fill-color: #174EA6;\n",
              "      --disabled-fill-color: #AAA;\n",
              "      --disabled-bg-color: #DDD;\n",
              "  }\n",
              "\n",
              "  [theme=dark] .colab-df-quickchart {\n",
              "      --bg-color: #3B4455;\n",
              "      --fill-color: #D2E3FC;\n",
              "      --hover-bg-color: #434B5C;\n",
              "      --hover-fill-color: #FFFFFF;\n",
              "      --disabled-bg-color: #3B4455;\n",
              "      --disabled-fill-color: #666;\n",
              "  }\n",
              "\n",
              "  .colab-df-quickchart {\n",
              "    background-color: var(--bg-color);\n",
              "    border: none;\n",
              "    border-radius: 50%;\n",
              "    cursor: pointer;\n",
              "    display: none;\n",
              "    fill: var(--fill-color);\n",
              "    height: 32px;\n",
              "    padding: 0;\n",
              "    width: 32px;\n",
              "  }\n",
              "\n",
              "  .colab-df-quickchart:hover {\n",
              "    background-color: var(--hover-bg-color);\n",
              "    box-shadow: 0 1px 2px rgba(60, 64, 67, 0.3), 0 1px 3px 1px rgba(60, 64, 67, 0.15);\n",
              "    fill: var(--button-hover-fill-color);\n",
              "  }\n",
              "\n",
              "  .colab-df-quickchart-complete:disabled,\n",
              "  .colab-df-quickchart-complete:disabled:hover {\n",
              "    background-color: var(--disabled-bg-color);\n",
              "    fill: var(--disabled-fill-color);\n",
              "    box-shadow: none;\n",
              "  }\n",
              "\n",
              "  .colab-df-spinner {\n",
              "    border: 2px solid var(--fill-color);\n",
              "    border-color: transparent;\n",
              "    border-bottom-color: var(--fill-color);\n",
              "    animation:\n",
              "      spin 1s steps(1) infinite;\n",
              "  }\n",
              "\n",
              "  @keyframes spin {\n",
              "    0% {\n",
              "      border-color: transparent;\n",
              "      border-bottom-color: var(--fill-color);\n",
              "      border-left-color: var(--fill-color);\n",
              "    }\n",
              "    20% {\n",
              "      border-color: transparent;\n",
              "      border-left-color: var(--fill-color);\n",
              "      border-top-color: var(--fill-color);\n",
              "    }\n",
              "    30% {\n",
              "      border-color: transparent;\n",
              "      border-left-color: var(--fill-color);\n",
              "      border-top-color: var(--fill-color);\n",
              "      border-right-color: var(--fill-color);\n",
              "    }\n",
              "    40% {\n",
              "      border-color: transparent;\n",
              "      border-right-color: var(--fill-color);\n",
              "      border-top-color: var(--fill-color);\n",
              "    }\n",
              "    60% {\n",
              "      border-color: transparent;\n",
              "      border-right-color: var(--fill-color);\n",
              "    }\n",
              "    80% {\n",
              "      border-color: transparent;\n",
              "      border-right-color: var(--fill-color);\n",
              "      border-bottom-color: var(--fill-color);\n",
              "    }\n",
              "    90% {\n",
              "      border-color: transparent;\n",
              "      border-bottom-color: var(--fill-color);\n",
              "    }\n",
              "  }\n",
              "</style>\n",
              "\n",
              "      <script>\n",
              "        async function quickchart(key) {\n",
              "          const quickchartButtonEl =\n",
              "            document.querySelector('#' + key + ' button');\n",
              "          quickchartButtonEl.disabled = true;  // To prevent multiple clicks.\n",
              "          quickchartButtonEl.classList.add('colab-df-spinner');\n",
              "          try {\n",
              "            const charts = await google.colab.kernel.invokeFunction(\n",
              "                'suggestCharts', [key], {});\n",
              "          } catch (error) {\n",
              "            console.error('Error during call to suggestCharts:', error);\n",
              "          }\n",
              "          quickchartButtonEl.classList.remove('colab-df-spinner');\n",
              "          quickchartButtonEl.classList.add('colab-df-quickchart-complete');\n",
              "        }\n",
              "        (() => {\n",
              "          let quickchartButtonEl =\n",
              "            document.querySelector('#df-c63ee964-c030-481d-9769-79e872c1aafe button');\n",
              "          quickchartButtonEl.style.display =\n",
              "            google.colab.kernel.accessAllowed ? 'block' : 'none';\n",
              "        })();\n",
              "      </script>\n",
              "    </div>\n",
              "\n",
              "    </div>\n",
              "  </div>\n"
            ],
            "text/plain": [
              "      order_id  quantity            item_name  \\\n",
              "4615      1832         1   Chicken Soft Tacos   \n",
              "4616      1832         1  Chips and Guacamole   \n",
              "4617      1833         1        Steak Burrito   \n",
              "4618      1833         1        Steak Burrito   \n",
              "4619      1834         1   Chicken Salad Bowl   \n",
              "4620      1834         1   Chicken Salad Bowl   \n",
              "4621      1834         1   Chicken Salad Bowl   \n",
              "\n",
              "                                     choice_description item_price  \n",
              "4615   [Fresh Tomato Salsa, [Rice, Cheese, Sour Cream]]     $8.75   \n",
              "4616                                                NaN     $4.45   \n",
              "4617  [Fresh Tomato Salsa, [Rice, Black Beans, Sour ...    $11.75   \n",
              "4618  [Fresh Tomato Salsa, [Rice, Sour Cream, Cheese...    $11.75   \n",
              "4619  [Fresh Tomato Salsa, [Fajita Vegetables, Pinto...    $11.25   \n",
              "4620  [Fresh Tomato Salsa, [Fajita Vegetables, Lettu...     $8.75   \n",
              "4621  [Fresh Tomato Salsa, [Fajita Vegetables, Pinto...     $8.75   "
            ]
          },
          "execution_count": 10,
          "metadata": {},
          "output_type": "execute_result"
        }
      ],
      "source": [
        "df.tail(7)"
      ]
    },
    {
      "cell_type": "markdown",
      "metadata": {
        "id": "mS52CU2Mc7Q5"
      },
      "source": [
        "#### 2. **Print a summary of the DataFrame including the index dtype and column dtypes, non-null values, and memory usage. Comment on what you see.**"
      ]
    },
    {
      "cell_type": "code",
      "execution_count": null,
      "metadata": {
        "colab": {
          "base_uri": "https://localhost:8080/"
        },
        "id": "kFxeVn_mdBrB",
        "outputId": "154a30a8-defe-4027-c319-0ac70955a685"
      },
      "outputs": [
        {
          "name": "stdout",
          "output_type": "stream",
          "text": [
            "<class 'pandas.core.frame.DataFrame'>\n",
            "RangeIndex: 4622 entries, 0 to 4621\n",
            "Data columns (total 5 columns):\n",
            " #   Column              Non-Null Count  Dtype \n",
            "---  ------              --------------  ----- \n",
            " 0   order_id            4622 non-null   int64 \n",
            " 1   quantity            4622 non-null   int64 \n",
            " 2   item_name           4622 non-null   object\n",
            " 3   choice_description  3376 non-null   object\n",
            " 4   item_price          4622 non-null   object\n",
            "dtypes: int64(2), object(3)\n",
            "memory usage: 180.7+ KB\n"
          ]
        }
      ],
      "source": [
        "df.info()"
      ]
    },
    {
      "cell_type": "markdown",
      "metadata": {
        "id": "R1Obl6y8dHei"
      },
      "source": [
        "*The summary of the dataframe shows that:*\n",
        "- _The dataset has a total of 4622 records._\n",
        "- _It has a total of 5 columns including the order_id, quantity, item_name, choice_description, and item_price._\n",
        "- _All the columns in the dataset has no null values except in the choice_description  column which has 1246 null values._\n",
        "- _The first two columns, order_id and quantity, are of integer values, while the other three are of non integer values._\n",
        "- _The memory usage of the dataset is around 180.7 KB_"
      ]
    },
    {
      "cell_type": "markdown",
      "metadata": {
        "id": "NjM97xJsenBW"
      },
      "source": [
        "#### 3. **Determine how many observations have missing item_price in the dataset.**"
      ]
    },
    {
      "cell_type": "code",
      "execution_count": null,
      "metadata": {
        "colab": {
          "base_uri": "https://localhost:8080/"
        },
        "id": "ZYDyIrrpfQR3",
        "outputId": "185f8fc8-41b2-458f-c546-a9aea7cb2500"
      },
      "outputs": [
        {
          "data": {
            "text/plain": [
              "np.int64(0)"
            ]
          },
          "execution_count": 4,
          "metadata": {},
          "output_type": "execute_result"
        }
      ],
      "source": [
        "df.item_price.isnull().sum()"
      ]
    },
    {
      "cell_type": "markdown",
      "metadata": {
        "id": "TH43MxzTfcp3"
      },
      "source": [
        "_None of the observations have missing item_price in the dataset_"
      ]
    },
    {
      "cell_type": "markdown",
      "metadata": {
        "id": "NsxbjD14fp1X"
      },
      "source": [
        "#### 4. **Print the names of all columns in the DataFrame.**"
      ]
    },
    {
      "cell_type": "code",
      "execution_count": null,
      "metadata": {
        "colab": {
          "base_uri": "https://localhost:8080/"
        },
        "id": "ImnxAHnlfwPj",
        "outputId": "38ab075c-a742-4c64-8832-3c6f23f9f47d"
      },
      "outputs": [
        {
          "name": "stdout",
          "output_type": "stream",
          "text": [
            "Index(['order_id', 'quantity', 'item_name', 'choice_description',\n",
            "       'item_price'],\n",
            "      dtype='object')\n"
          ]
        }
      ],
      "source": [
        "df.columns"
      ]
    },
    {
      "cell_type": "markdown",
      "metadata": {
        "id": "cOwa57WKgxNL"
      },
      "source": [
        "#### 5. **Identify which item_name appears most frequently in the orders.**"
      ]
    },
    {
      "cell_type": "code",
      "execution_count": null,
      "metadata": {
        "colab": {
          "base_uri": "https://localhost:8080/"
        },
        "id": "lQmwoDiDhVFT",
        "outputId": "c27e54fb-2892-4007-d655-fbe308f24113"
      },
      "outputs": [
        {
          "name": "stdout",
          "output_type": "stream",
          "text": [
            "item_name\n",
            "Chicken Bowl                             726\n",
            "Chicken Burrito                          553\n",
            "Chips and Guacamole                      479\n",
            "Steak Burrito                            368\n",
            "Canned Soft Drink                        301\n",
            "Chips                                    211\n",
            "Steak Bowl                               211\n",
            "Bottled Water                            162\n",
            "Chicken Soft Tacos                       115\n",
            "Chips and Fresh Tomato Salsa             110\n",
            "Chicken Salad Bowl                       110\n",
            "Canned Soda                              104\n",
            "Side of Chips                            101\n",
            "Veggie Burrito                            95\n",
            "Barbacoa Burrito                          91\n",
            "Veggie Bowl                               85\n",
            "Carnitas Bowl                             68\n",
            "Barbacoa Bowl                             66\n",
            "Carnitas Burrito                          59\n",
            "Steak Soft Tacos                          55\n",
            "6 Pack Soft Drink                         54\n",
            "Chips and Tomatillo Red Chili Salsa       48\n",
            "Chicken Crispy Tacos                      47\n",
            "Chips and Tomatillo Green Chili Salsa     43\n",
            "Carnitas Soft Tacos                       40\n",
            "Steak Crispy Tacos                        35\n",
            "Chips and Tomatillo-Green Chili Salsa     31\n",
            "Steak Salad Bowl                          29\n",
            "Nantucket Nectar                          27\n",
            "Barbacoa Soft Tacos                       25\n",
            "Chips and Roasted Chili Corn Salsa        22\n",
            "Izze                                      20\n",
            "Chips and Tomatillo-Red Chili Salsa       20\n",
            "Veggie Salad Bowl                         18\n",
            "Chips and Roasted Chili-Corn Salsa        18\n",
            "Barbacoa Crispy Tacos                     11\n",
            "Barbacoa Salad Bowl                       10\n",
            "Chicken Salad                              9\n",
            "Veggie Soft Tacos                          7\n",
            "Carnitas Crispy Tacos                      7\n",
            "Burrito                                    6\n",
            "Carnitas Salad Bowl                        6\n",
            "Veggie Salad                               6\n",
            "Steak Salad                                4\n",
            "Crispy Tacos                               2\n",
            "Bowl                                       2\n",
            "Salad                                      2\n",
            "Chips and Mild Fresh Tomato Salsa          1\n",
            "Veggie Crispy Tacos                        1\n",
            "Carnitas Salad                             1\n",
            "Name: count, dtype: int64\n",
            "726\n"
          ]
        },
        {
          "name": "stderr",
          "output_type": "stream",
          "text": [
            "<ipython-input-30-2996238824>:6: FutureWarning: Series.__getitem__ treating keys as positions is deprecated. In a future version, integer keys will always be treated as labels (consistent with DataFrame behavior). To access a value by position, use `ser.iloc[pos]`\n",
            "  print(item_name_count[0])\n"
          ]
        }
      ],
      "source": [
        "#Number of times each item_name appear\n",
        "item_name_count = df.item_name.value_counts()\n",
        "print(item_name_count)\n",
        "\n",
        "#The highest count is the first item, since they are in ascending order\n",
        "print(item_name_count[0])"
      ]
    },
    {
      "cell_type": "markdown",
      "metadata": {
        "id": "XOxhjqjuin8P"
      },
      "source": [
        "_The item_name appearing most is Chicken Bowl, appearing 726 times._"
      ]
    },
    {
      "cell_type": "markdown",
      "metadata": {
        "id": "dh-VdRhMjN6U"
      },
      "source": [
        "#### 6. **Determine how many distinct item_name values are present in the dataset.**"
      ]
    },
    {
      "cell_type": "code",
      "execution_count": null,
      "metadata": {
        "colab": {
          "base_uri": "https://localhost:8080/"
        },
        "id": "IzR5EIDGjcvs",
        "outputId": "b8cf28e9-90f0-4bea-f0e9-ea6ebe89f6f6"
      },
      "outputs": [
        {
          "data": {
            "text/plain": [
              "50"
            ]
          },
          "execution_count": 34,
          "metadata": {},
          "output_type": "execute_result"
        }
      ],
      "source": [
        "df.item_name.nunique()"
      ]
    },
    {
      "cell_type": "markdown",
      "metadata": {
        "id": "Beh-0g2Qk6iH"
      },
      "source": [
        "#### 7. **Create a new DataFrame containing only the rows where the item_name is 'Chicken Bowl'.**"
      ]
    },
    {
      "cell_type": "code",
      "execution_count": null,
      "metadata": {
        "colab": {
          "base_uri": "https://localhost:8080/"
        },
        "id": "LUpRg9gmlBjl",
        "outputId": "0c52dbd8-945f-4518-cc5c-aa74e55c5476"
      },
      "outputs": [
        {
          "name": "stdout",
          "output_type": "stream",
          "text": [
            "      order_id  quantity     item_name  \\\n",
            "4            2         2  Chicken Bowl   \n",
            "5            3         1  Chicken Bowl   \n",
            "13           7         1  Chicken Bowl   \n",
            "19          10         1  Chicken Bowl   \n",
            "26          13         1  Chicken Bowl   \n",
            "...        ...       ...           ...   \n",
            "4590      1825         1  Chicken Bowl   \n",
            "4591      1825         1  Chicken Bowl   \n",
            "4595      1826         1  Chicken Bowl   \n",
            "4599      1827         1  Chicken Bowl   \n",
            "4604      1828         1  Chicken Bowl   \n",
            "\n",
            "                                     choice_description item_price  \n",
            "4     [Tomatillo-Red Chili Salsa (Hot), [Black Beans...    $16.98   \n",
            "5     [Fresh Tomato Salsa (Mild), [Rice, Cheese, Sou...    $10.98   \n",
            "13    [Fresh Tomato Salsa, [Fajita Vegetables, Rice,...    $11.25   \n",
            "19    [Tomatillo Red Chili Salsa, [Fajita Vegetables...     $8.75   \n",
            "26    [Roasted Chili Corn Salsa (Medium), [Pinto Bea...     $8.49   \n",
            "...                                                 ...        ...  \n",
            "4590  [Roasted Chili Corn Salsa, [Rice, Black Beans,...    $11.25   \n",
            "4591  [Tomatillo Red Chili Salsa, [Rice, Black Beans...     $8.75   \n",
            "4595  [Tomatillo Green Chili Salsa, [Rice, Black Bea...     $8.75   \n",
            "4599      [Roasted Chili Corn Salsa, [Cheese, Lettuce]]     $8.75   \n",
            "4604  [Fresh Tomato Salsa, [Rice, Black Beans, Chees...     $8.75   \n",
            "\n",
            "[726 rows x 5 columns]\n"
          ]
        }
      ],
      "source": [
        "new_dataframe = df[df.item_name == \"Chicken Bowl\"]\n",
        "print(new_dataframe)"
      ]
    },
    {
      "cell_type": "markdown",
      "metadata": {
        "id": "NppyMOt5lz9C"
      },
      "source": [
        "#### 8. **The 'item_price' column is currently a string (e.g., '$2.39'). Convert it to a float type. You'll need to remove the dollar sign and then convert the data type.**"
      ]
    },
    {
      "cell_type": "code",
      "execution_count": null,
      "metadata": {
        "colab": {
          "base_uri": "https://localhost:8080/",
          "height": 224
        },
        "id": "c1fm2E1zmzKo",
        "outputId": "260f7465-28e9-450e-c680-247e2ebf12e3"
      },
      "outputs": [
        {
          "name": "stdout",
          "output_type": "stream",
          "text": [
            "float64\n"
          ]
        },
        {
          "data": {
            "application/vnd.google.colaboratory.intrinsic+json": {
              "summary": "{\n  \"name\": \"df\",\n  \"rows\": 4622,\n  \"fields\": [\n    {\n      \"column\": \"order_id\",\n      \"properties\": {\n        \"dtype\": \"number\",\n        \"std\": 528,\n        \"min\": 1,\n        \"max\": 1834,\n        \"num_unique_values\": 1834,\n        \"samples\": [\n          644,\n          333,\n          991\n        ],\n        \"semantic_type\": \"\",\n        \"description\": \"\"\n      }\n    },\n    {\n      \"column\": \"quantity\",\n      \"properties\": {\n        \"dtype\": \"number\",\n        \"std\": 0,\n        \"min\": 1,\n        \"max\": 15,\n        \"num_unique_values\": 9,\n        \"samples\": [\n          8,\n          2,\n          15\n        ],\n        \"semantic_type\": \"\",\n        \"description\": \"\"\n      }\n    },\n    {\n      \"column\": \"item_name\",\n      \"properties\": {\n        \"dtype\": \"category\",\n        \"num_unique_values\": 50,\n        \"samples\": [\n          \"Barbacoa Burrito\",\n          \"Crispy Tacos\",\n          \"Chips and Roasted Chili Corn Salsa\"\n        ],\n        \"semantic_type\": \"\",\n        \"description\": \"\"\n      }\n    },\n    {\n      \"column\": \"choice_description\",\n      \"properties\": {\n        \"dtype\": \"category\",\n        \"num_unique_values\": 1043,\n        \"samples\": [\n          \"[Roasted Chili Corn Salsa, [Black Beans, Sour Cream, Cheese, Guacamole]]\",\n          \"[Tomatillo Red Chili Salsa, [Guacamole, Cheese]]\",\n          \"[Fresh Tomato Salsa, [Rice, Cheese, Sour Cream, Guacamole, Lettuce]]\"\n        ],\n        \"semantic_type\": \"\",\n        \"description\": \"\"\n      }\n    },\n    {\n      \"column\": \"item_price\",\n      \"properties\": {\n        \"dtype\": \"number\",\n        \"std\": 4.245557197940349,\n        \"min\": 1.09,\n        \"max\": 44.25,\n        \"num_unique_values\": 78,\n        \"samples\": [\n          23.5,\n          2.39,\n          7.4\n        ],\n        \"semantic_type\": \"\",\n        \"description\": \"\"\n      }\n    }\n  ]\n}",
              "type": "dataframe",
              "variable_name": "df"
            },
            "text/html": [
              "\n",
              "  <div id=\"df-528087b6-3c3d-446f-92b6-25dd96556201\" class=\"colab-df-container\">\n",
              "    <div>\n",
              "<style scoped>\n",
              "    .dataframe tbody tr th:only-of-type {\n",
              "        vertical-align: middle;\n",
              "    }\n",
              "\n",
              "    .dataframe tbody tr th {\n",
              "        vertical-align: top;\n",
              "    }\n",
              "\n",
              "    .dataframe thead th {\n",
              "        text-align: right;\n",
              "    }\n",
              "</style>\n",
              "<table border=\"1\" class=\"dataframe\">\n",
              "  <thead>\n",
              "    <tr style=\"text-align: right;\">\n",
              "      <th></th>\n",
              "      <th>order_id</th>\n",
              "      <th>quantity</th>\n",
              "      <th>item_name</th>\n",
              "      <th>choice_description</th>\n",
              "      <th>item_price</th>\n",
              "    </tr>\n",
              "  </thead>\n",
              "  <tbody>\n",
              "    <tr>\n",
              "      <th>0</th>\n",
              "      <td>1</td>\n",
              "      <td>1</td>\n",
              "      <td>Chips and Fresh Tomato Salsa</td>\n",
              "      <td>NaN</td>\n",
              "      <td>2.39</td>\n",
              "    </tr>\n",
              "    <tr>\n",
              "      <th>1</th>\n",
              "      <td>1</td>\n",
              "      <td>1</td>\n",
              "      <td>Izze</td>\n",
              "      <td>[Clementine]</td>\n",
              "      <td>3.39</td>\n",
              "    </tr>\n",
              "    <tr>\n",
              "      <th>2</th>\n",
              "      <td>1</td>\n",
              "      <td>1</td>\n",
              "      <td>Nantucket Nectar</td>\n",
              "      <td>[Apple]</td>\n",
              "      <td>3.39</td>\n",
              "    </tr>\n",
              "    <tr>\n",
              "      <th>3</th>\n",
              "      <td>1</td>\n",
              "      <td>1</td>\n",
              "      <td>Chips and Tomatillo-Green Chili Salsa</td>\n",
              "      <td>NaN</td>\n",
              "      <td>2.39</td>\n",
              "    </tr>\n",
              "    <tr>\n",
              "      <th>4</th>\n",
              "      <td>2</td>\n",
              "      <td>2</td>\n",
              "      <td>Chicken Bowl</td>\n",
              "      <td>[Tomatillo-Red Chili Salsa (Hot), [Black Beans...</td>\n",
              "      <td>16.98</td>\n",
              "    </tr>\n",
              "  </tbody>\n",
              "</table>\n",
              "</div>\n",
              "    <div class=\"colab-df-buttons\">\n",
              "\n",
              "  <div class=\"colab-df-container\">\n",
              "    <button class=\"colab-df-convert\" onclick=\"convertToInteractive('df-528087b6-3c3d-446f-92b6-25dd96556201')\"\n",
              "            title=\"Convert this dataframe to an interactive table.\"\n",
              "            style=\"display:none;\">\n",
              "\n",
              "  <svg xmlns=\"http://www.w3.org/2000/svg\" height=\"24px\" viewBox=\"0 -960 960 960\">\n",
              "    <path d=\"M120-120v-720h720v720H120Zm60-500h600v-160H180v160Zm220 220h160v-160H400v160Zm0 220h160v-160H400v160ZM180-400h160v-160H180v160Zm440 0h160v-160H620v160ZM180-180h160v-160H180v160Zm440 0h160v-160H620v160Z\"/>\n",
              "  </svg>\n",
              "    </button>\n",
              "\n",
              "  <style>\n",
              "    .colab-df-container {\n",
              "      display:flex;\n",
              "      gap: 12px;\n",
              "    }\n",
              "\n",
              "    .colab-df-convert {\n",
              "      background-color: #E8F0FE;\n",
              "      border: none;\n",
              "      border-radius: 50%;\n",
              "      cursor: pointer;\n",
              "      display: none;\n",
              "      fill: #1967D2;\n",
              "      height: 32px;\n",
              "      padding: 0 0 0 0;\n",
              "      width: 32px;\n",
              "    }\n",
              "\n",
              "    .colab-df-convert:hover {\n",
              "      background-color: #E2EBFA;\n",
              "      box-shadow: 0px 1px 2px rgba(60, 64, 67, 0.3), 0px 1px 3px 1px rgba(60, 64, 67, 0.15);\n",
              "      fill: #174EA6;\n",
              "    }\n",
              "\n",
              "    .colab-df-buttons div {\n",
              "      margin-bottom: 4px;\n",
              "    }\n",
              "\n",
              "    [theme=dark] .colab-df-convert {\n",
              "      background-color: #3B4455;\n",
              "      fill: #D2E3FC;\n",
              "    }\n",
              "\n",
              "    [theme=dark] .colab-df-convert:hover {\n",
              "      background-color: #434B5C;\n",
              "      box-shadow: 0px 1px 3px 1px rgba(0, 0, 0, 0.15);\n",
              "      filter: drop-shadow(0px 1px 2px rgba(0, 0, 0, 0.3));\n",
              "      fill: #FFFFFF;\n",
              "    }\n",
              "  </style>\n",
              "\n",
              "    <script>\n",
              "      const buttonEl =\n",
              "        document.querySelector('#df-528087b6-3c3d-446f-92b6-25dd96556201 button.colab-df-convert');\n",
              "      buttonEl.style.display =\n",
              "        google.colab.kernel.accessAllowed ? 'block' : 'none';\n",
              "\n",
              "      async function convertToInteractive(key) {\n",
              "        const element = document.querySelector('#df-528087b6-3c3d-446f-92b6-25dd96556201');\n",
              "        const dataTable =\n",
              "          await google.colab.kernel.invokeFunction('convertToInteractive',\n",
              "                                                    [key], {});\n",
              "        if (!dataTable) return;\n",
              "\n",
              "        const docLinkHtml = 'Like what you see? Visit the ' +\n",
              "          '<a target=\"_blank\" href=https://colab.research.google.com/notebooks/data_table.ipynb>data table notebook</a>'\n",
              "          + ' to learn more about interactive tables.';\n",
              "        element.innerHTML = '';\n",
              "        dataTable['output_type'] = 'display_data';\n",
              "        await google.colab.output.renderOutput(dataTable, element);\n",
              "        const docLink = document.createElement('div');\n",
              "        docLink.innerHTML = docLinkHtml;\n",
              "        element.appendChild(docLink);\n",
              "      }\n",
              "    </script>\n",
              "  </div>\n",
              "\n",
              "\n",
              "    <div id=\"df-d1c88752-382a-403f-9243-0b4445a14d7c\">\n",
              "      <button class=\"colab-df-quickchart\" onclick=\"quickchart('df-d1c88752-382a-403f-9243-0b4445a14d7c')\"\n",
              "                title=\"Suggest charts\"\n",
              "                style=\"display:none;\">\n",
              "\n",
              "<svg xmlns=\"http://www.w3.org/2000/svg\" height=\"24px\"viewBox=\"0 0 24 24\"\n",
              "     width=\"24px\">\n",
              "    <g>\n",
              "        <path d=\"M19 3H5c-1.1 0-2 .9-2 2v14c0 1.1.9 2 2 2h14c1.1 0 2-.9 2-2V5c0-1.1-.9-2-2-2zM9 17H7v-7h2v7zm4 0h-2V7h2v10zm4 0h-2v-4h2v4z\"/>\n",
              "    </g>\n",
              "</svg>\n",
              "      </button>\n",
              "\n",
              "<style>\n",
              "  .colab-df-quickchart {\n",
              "      --bg-color: #E8F0FE;\n",
              "      --fill-color: #1967D2;\n",
              "      --hover-bg-color: #E2EBFA;\n",
              "      --hover-fill-color: #174EA6;\n",
              "      --disabled-fill-color: #AAA;\n",
              "      --disabled-bg-color: #DDD;\n",
              "  }\n",
              "\n",
              "  [theme=dark] .colab-df-quickchart {\n",
              "      --bg-color: #3B4455;\n",
              "      --fill-color: #D2E3FC;\n",
              "      --hover-bg-color: #434B5C;\n",
              "      --hover-fill-color: #FFFFFF;\n",
              "      --disabled-bg-color: #3B4455;\n",
              "      --disabled-fill-color: #666;\n",
              "  }\n",
              "\n",
              "  .colab-df-quickchart {\n",
              "    background-color: var(--bg-color);\n",
              "    border: none;\n",
              "    border-radius: 50%;\n",
              "    cursor: pointer;\n",
              "    display: none;\n",
              "    fill: var(--fill-color);\n",
              "    height: 32px;\n",
              "    padding: 0;\n",
              "    width: 32px;\n",
              "  }\n",
              "\n",
              "  .colab-df-quickchart:hover {\n",
              "    background-color: var(--hover-bg-color);\n",
              "    box-shadow: 0 1px 2px rgba(60, 64, 67, 0.3), 0 1px 3px 1px rgba(60, 64, 67, 0.15);\n",
              "    fill: var(--button-hover-fill-color);\n",
              "  }\n",
              "\n",
              "  .colab-df-quickchart-complete:disabled,\n",
              "  .colab-df-quickchart-complete:disabled:hover {\n",
              "    background-color: var(--disabled-bg-color);\n",
              "    fill: var(--disabled-fill-color);\n",
              "    box-shadow: none;\n",
              "  }\n",
              "\n",
              "  .colab-df-spinner {\n",
              "    border: 2px solid var(--fill-color);\n",
              "    border-color: transparent;\n",
              "    border-bottom-color: var(--fill-color);\n",
              "    animation:\n",
              "      spin 1s steps(1) infinite;\n",
              "  }\n",
              "\n",
              "  @keyframes spin {\n",
              "    0% {\n",
              "      border-color: transparent;\n",
              "      border-bottom-color: var(--fill-color);\n",
              "      border-left-color: var(--fill-color);\n",
              "    }\n",
              "    20% {\n",
              "      border-color: transparent;\n",
              "      border-left-color: var(--fill-color);\n",
              "      border-top-color: var(--fill-color);\n",
              "    }\n",
              "    30% {\n",
              "      border-color: transparent;\n",
              "      border-left-color: var(--fill-color);\n",
              "      border-top-color: var(--fill-color);\n",
              "      border-right-color: var(--fill-color);\n",
              "    }\n",
              "    40% {\n",
              "      border-color: transparent;\n",
              "      border-right-color: var(--fill-color);\n",
              "      border-top-color: var(--fill-color);\n",
              "    }\n",
              "    60% {\n",
              "      border-color: transparent;\n",
              "      border-right-color: var(--fill-color);\n",
              "    }\n",
              "    80% {\n",
              "      border-color: transparent;\n",
              "      border-right-color: var(--fill-color);\n",
              "      border-bottom-color: var(--fill-color);\n",
              "    }\n",
              "    90% {\n",
              "      border-color: transparent;\n",
              "      border-bottom-color: var(--fill-color);\n",
              "    }\n",
              "  }\n",
              "</style>\n",
              "\n",
              "      <script>\n",
              "        async function quickchart(key) {\n",
              "          const quickchartButtonEl =\n",
              "            document.querySelector('#' + key + ' button');\n",
              "          quickchartButtonEl.disabled = true;  // To prevent multiple clicks.\n",
              "          quickchartButtonEl.classList.add('colab-df-spinner');\n",
              "          try {\n",
              "            const charts = await google.colab.kernel.invokeFunction(\n",
              "                'suggestCharts', [key], {});\n",
              "          } catch (error) {\n",
              "            console.error('Error during call to suggestCharts:', error);\n",
              "          }\n",
              "          quickchartButtonEl.classList.remove('colab-df-spinner');\n",
              "          quickchartButtonEl.classList.add('colab-df-quickchart-complete');\n",
              "        }\n",
              "        (() => {\n",
              "          let quickchartButtonEl =\n",
              "            document.querySelector('#df-d1c88752-382a-403f-9243-0b4445a14d7c button');\n",
              "          quickchartButtonEl.style.display =\n",
              "            google.colab.kernel.accessAllowed ? 'block' : 'none';\n",
              "        })();\n",
              "      </script>\n",
              "    </div>\n",
              "\n",
              "    </div>\n",
              "  </div>\n"
            ],
            "text/plain": [
              "   order_id  quantity                              item_name  \\\n",
              "0         1         1           Chips and Fresh Tomato Salsa   \n",
              "1         1         1                                   Izze   \n",
              "2         1         1                       Nantucket Nectar   \n",
              "3         1         1  Chips and Tomatillo-Green Chili Salsa   \n",
              "4         2         2                           Chicken Bowl   \n",
              "\n",
              "                                  choice_description  item_price  \n",
              "0                                                NaN        2.39  \n",
              "1                                       [Clementine]        3.39  \n",
              "2                                            [Apple]        3.39  \n",
              "3                                                NaN        2.39  \n",
              "4  [Tomatillo-Red Chili Salsa (Hot), [Black Beans...       16.98  "
            ]
          },
          "execution_count": 6,
          "metadata": {},
          "output_type": "execute_result"
        }
      ],
      "source": [
        "#Remove the $ sign prefixed in the item_price\n",
        "df.item_price = df.item_price.str.strip('$')\n",
        "\n",
        "#Convert the item_price into float\n",
        "df.item_price = df.item_price.astype(float)\n",
        "\n",
        "\n",
        "print(df.item_price.dtype)\n",
        "df.head()"
      ]
    },
    {
      "cell_type": "markdown",
      "metadata": {
        "id": "uk9KeJXAnwni"
      },
      "source": [
        "#### 9. **After converting 'item_price' to a numerical type, calculate the average item_price across all orders.**"
      ]
    },
    {
      "cell_type": "code",
      "execution_count": null,
      "metadata": {
        "colab": {
          "base_uri": "https://localhost:8080/"
        },
        "id": "C0-_pEuWn4Ni",
        "outputId": "f7c1d5af-d260-405e-8f92-fcb13a1aa808"
      },
      "outputs": [
        {
          "name": "stdout",
          "output_type": "stream",
          "text": [
            "7.464335785374297\n"
          ]
        }
      ],
      "source": [
        "print(df.item_price.mean())"
      ]
    },
    {
      "cell_type": "markdown",
      "metadata": {
        "id": "CWrRsqInoVcf"
      },
      "source": [
        "#### 10. **Determine the total number of unique orders in the dataset based on the order_id column.**"
      ]
    },
    {
      "cell_type": "code",
      "execution_count": null,
      "metadata": {
        "colab": {
          "base_uri": "https://localhost:8080/"
        },
        "id": "JFyevOyOodhX",
        "outputId": "fe6add99-50bc-4956-a070-df05d5ac8f89"
      },
      "outputs": [
        {
          "data": {
            "text/plain": [
              "1834"
            ]
          },
          "execution_count": 45,
          "metadata": {},
          "output_type": "execute_result"
        }
      ],
      "source": [
        "#Determining the number of unique values in the order_id column\n",
        "df.order_id.nunique()"
      ]
    },
    {
      "cell_type": "markdown",
      "metadata": {
        "id": "7_UpkKRSNu2Z"
      },
      "source": [
        "##Section 3: Optional; Extra Credit\n",
        "\n",
        "---\n",
        "\n"
      ]
    },
    {
      "cell_type": "markdown",
      "metadata": {
        "id": "M8VVD0y9J-T4"
      },
      "source": [
        "#### 1. **Total Revenue Calculation (Pandas)**"
      ]
    },
    {
      "cell_type": "markdown",
      "metadata": {
        "id": "qM5lFO0SKLzR"
      },
      "source": [
        "Assuming each `item_price` (after conversion to float) is for a single quantity of that item, calculate the total revenue generated from all orders. Remember that the `quantity` column indicates how many of that `item_name` were ordered in that specific line item."
      ]
    },
    {
      "cell_type": "code",
      "execution_count": null,
      "metadata": {
        "colab": {
          "base_uri": "https://localhost:8080/"
        },
        "id": "2O13XEI8KvK2",
        "outputId": "bb77735d-35c6-471b-d469-d5a53aa48875"
      },
      "outputs": [
        {
          "data": {
            "text/plain": [
              "39237.020000000055"
            ]
          },
          "execution_count": 17,
          "metadata": {},
          "output_type": "execute_result"
        }
      ],
      "source": [
        "sum(df.item_price * df.quantity)"
      ]
    }
  ],
  "metadata": {
    "colab": {
      "provenance": []
    },
    "kernelspec": {
      "display_name": "Python 3",
      "name": "python3"
    },
    "language_info": {
      "name": "python"
    }
  },
  "nbformat": 4,
  "nbformat_minor": 0
}
